{
 "cells": [
  {
   "cell_type": "markdown",
   "metadata": {},
   "source": [
    "### Import Required Libraries and Set Up Environment Variables"
   ]
  },
  {
   "cell_type": "code",
   "execution_count": 38,
   "metadata": {},
   "outputs": [],
   "source": [
    "# Dependencies\n",
    "import requests\n",
    "import time\n",
    "import os\n",
    "import pandas as pd\n",
    "import json\n",
    "import os\n",
    "from datetime import datetime\n",
    "\n",
    "## Load the NASA_API_KEY from the env file\n",
    "load_dotenv()\n",
    "NASA_API_KEY = os.getenv('NASA_API_KEY')"
   ]
  },
  {
   "cell_type": "markdown",
   "metadata": {},
   "source": [
    "### CME Data"
   ]
  },
  {
   "cell_type": "code",
   "execution_count": 39,
   "metadata": {},
   "outputs": [
    {
     "name": "stdout",
     "output_type": "stream",
     "text": [
      "API Key loaded: Yes\n",
      "API Key preview: Eoiq...\n"
     ]
    }
   ],
   "source": [
    "# Set the base URL to NASA's DONKI API:\n",
    "base_url = \"https://api.nasa.gov/DONKI/\"\n",
    "\n",
    "# Set the specifier for CMEs:\n",
    "CME = \"CME\"\n",
    "\n",
    "# Search for CMEs published between a begin and end date\n",
    "startDate = \"2013-05-01\"\n",
    "endDate   = \"2024-05-01\"\n",
    "\n",
    "# Check if API_KEY is loaded correctly\n",
    "print(f\"API Key loaded: {'Yes' if NASA_API_KEY else 'No'}\")\n",
    "# The next line will show only the first few characters of your key for verification purposes\n",
    "print(f\"API Key preview: {NASA_API_KEY[:4]}...\" if NASA_API_KEY else \"No API key found\")\n",
    "\n",
    "# Build URL for CME\n",
    "query_url_CME = f\"{base_url}{CME}?startDate={startDate}&endDate={endDate}&api_key={NASA_API_KEY}\"\n",
    "\n",
    "\n"
   ]
  },
  {
   "cell_type": "code",
   "execution_count": 40,
   "metadata": {},
   "outputs": [],
   "source": [
    "# Make a \"GET\" request for the CME URL and store it in a variable named cme_response\n",
    "cme_response = requests.get(query_url_CME)\n"
   ]
  },
  {
   "cell_type": "code",
   "execution_count": 41,
   "metadata": {},
   "outputs": [],
   "source": [
    "# Convert the response variable to json and store it as a variable named cme_json\n",
    "cme_json = cme_response.json()\n"
   ]
  },
  {
   "cell_type": "code",
   "execution_count": 42,
   "metadata": {
    "scrolled": true
   },
   "outputs": [
    {
     "name": "stdout",
     "output_type": "stream",
     "text": [
      "{\n",
      "    \"activityID\": \"2013-05-01T03:12:00-CME-001\",\n",
      "    \"catalog\": \"M2M_CATALOG\",\n",
      "    \"startTime\": \"2013-05-01T03:12Z\",\n",
      "    \"instruments\": [\n",
      "        {\n",
      "            \"displayName\": \"SOHO: LASCO/C2\"\n",
      "        },\n",
      "        {\n",
      "            \"displayName\": \"SOHO: LASCO/C3\"\n",
      "        },\n",
      "        {\n",
      "            \"displayName\": \"STEREO A: SECCHI/COR2\"\n",
      "        },\n",
      "        {\n",
      "            \"displayName\": \"STEREO B: SECCHI/COR2\"\n",
      "        }\n",
      "    ],\n",
      "    \"sourceLocation\": \"\",\n",
      "    \"activeRegionNum\": null,\n",
      "    \"note\": \"\",\n",
      "    \"submissionTime\": \"2013-08-07T16:54Z\",\n",
      "    \"versionId\": 1,\n",
      "    \"link\": \"https://webtools.ccmc.gsfc.nasa.gov/DONKI/view/CME/2349/-1\",\n",
      "    \"cmeAnalyses\": [\n",
      "        {\n",
      "            \"isMostAccurate\": true,\n",
      "            \"time21_5\": \"2013-05-01T07:07Z\",\n",
      "            \"latitude\": 12.0,\n",
      "            \"longitude\": -120.0,\n",
      "            \"halfAngle\": 36.0,\n",
      "            \"speed\": 860.0,\n",
      "            \"type\": \"C\",\n",
      "            \"featureCode\": \"null\",\n",
      "            \"imageType\": null,\n",
      "            \"measurementTechnique\": \"null\",\n",
      "            \"note\": \"\",\n",
      "            \"levelOfData\": 0,\n",
      "            \"tilt\": null,\n",
      "            \"minorHalfWidth\": null,\n",
      "            \"speedMeasuredAtHeight\": null,\n",
      "            \"submissionTime\": \"2013-08-07T16:54Z\",\n",
      "            \"link\": \"https://webtools.ccmc.gsfc.nasa.gov/DONKI/view/CMEAnalysis/2350/-1\",\n",
      "            \"enlilList\": [\n",
      "                {\n",
      "                    \"modelCompletionTime\": \"2013-05-01T08:32Z\",\n",
      "                    \"au\": 2.0,\n",
      "                    \"estimatedShockArrivalTime\": null,\n",
      "                    \"estimatedDuration\": null,\n",
      "                    \"rmin_re\": null,\n",
      "                    \"kp_18\": null,\n",
      "                    \"kp_90\": null,\n",
      "                    \"kp_135\": null,\n",
      "                    \"kp_180\": null,\n",
      "                    \"isEarthGB\": false,\n",
      "                    \"link\": \"https://webtools.ccmc.gsfc.nasa.gov/DONKI/view/WSA-ENLIL/2348/-1\",\n",
      "                    \"impactList\": [\n",
      "                        {\n",
      "                            \"isGlancingBlow\": false,\n",
      "                            \"location\": \"STEREO B\",\n",
      "                            \"arrivalTime\": \"2013-05-04T06:16Z\"\n",
      "                        }\n",
      "                    ],\n",
      "                    \"cmeIDs\": [\n",
      "                        \"2013-05-01T03:12:00-CME-001\"\n",
      "                    ]\n",
      "                }\n",
      "            ]\n",
      "        }\n",
      "    ],\n",
      "    \"linkedEvents\": [\n",
      "        {\n",
      "            \"activityID\": \"2013-05-04T04:52:00-IPS-001\"\n",
      "        }\n",
      "    ]\n",
      "}\n"
     ]
    }
   ],
   "source": [
    "# Preview ONLY the first element from the cme_json list you created in JSON format\n",
    "# Do NOT print out the entire list\n",
    "# Use json.dumps with argument indent=4 to format data\n",
    "\n",
    "\n",
    "print(json.dumps(cme_json[0], indent=4))"
   ]
  },
  {
   "cell_type": "code",
   "execution_count": 43,
   "metadata": {},
   "outputs": [],
   "source": [
    "# Convert cme_json to a Pandas DataFrame \n",
    "cme = pd.DataFrame(cme_json)\n",
    "\n",
    "# Keep only the columns: activityID, startTime, linkedEvents\n",
    "cme = cme[['activityID', 'startTime', 'linkedEvents']]\n"
   ]
  },
  {
   "cell_type": "code",
   "execution_count": 44,
   "metadata": {},
   "outputs": [],
   "source": [
    "# Notice that the linkedEvents column allows us to identify the corresponding GST\n",
    "# Remove rows with missing 'linkedEvents' since we won't be able to assign these to GSTs\n",
    "cme = cme.dropna(subset=['linkedEvents'])"
   ]
  },
  {
   "cell_type": "code",
   "execution_count": 45,
   "metadata": {},
   "outputs": [],
   "source": [
    "# Notice that the linkedEvents sometimes contains multiple events per row\n",
    "# Write a nested for loop that iterates first over each row in the cme DataFrame (using the index)\n",
    "# and then iterates over the values in 'linkedEvents' \n",
    "# and adds the elements individually to a list of dictionaries where each row is one element \n",
    "\n",
    "# Initialize an empty list to store the expanded rows\n",
    "expanded_rows = []\n",
    "\n",
    "# Iterate over each index in the DataFrame\n",
    "for i in cme.index:\n",
    "    activityID = cme.loc[i, 'activityID']  # Get the corresponding value from row i in 'activityID'\n",
    "    startTime = cme.loc[i, 'startTime']    # Get the corresponding value from row i in 'startTime'\n",
    "    linkedEvents = cme.loc[i, 'linkedEvents']  # Get the list of dictionaries from row i in 'linkedEvents'\n",
    "    \n",
    "    # Iterate over each dictionary in the list\n",
    "    for item in linkedEvents:\n",
    "        # Append a new dictionary to the expanded_rows list for each dictionary item and corresponding 'activityID' and 'startTime' value\n",
    "        expanded_rows.append({\n",
    "            'activityID': activityID,\n",
    "            'startTime': startTime,\n",
    "            'linkedEvents': item\n",
    "        })\n",
    "        \n",
    "# Create a new DataFrame from the expanded rows\n",
    "cme = pd.DataFrame(expanded_rows)\n"
   ]
  },
  {
   "cell_type": "code",
   "execution_count": 46,
   "metadata": {},
   "outputs": [
    {
     "data": {
      "text/plain": [
       "'2013-05-04T04:52:00-IPS-001'"
      ]
     },
     "execution_count": 46,
     "metadata": {},
     "output_type": "execute_result"
    }
   ],
   "source": [
    "# Create a function called extract_activityID_from_dict that takes a dict as input such as in linkedEvents\n",
    "# and verify below that it works as expected using one row from linkedEvents as an example\n",
    "# Be sure to use a try and except block to handle errors\n",
    "\n",
    "\n",
    "def extract_activityID_from_dict(input_dict):\n",
    "    try:\n",
    "        # Extract the activityID from the dictionary\n",
    "        return input_dict['activityID']\n",
    "    except (ValueError, TypeError) as e:\n",
    "        # Log the error or print it for debugging\n",
    "        print(f\"Error extracting activityID: {e}\")\n",
    "        return None\n",
    "\n",
    "# Test the function with one row\n",
    "extract_activityID_from_dict(cme.loc[0, 'linkedEvents'])"
   ]
  },
  {
   "cell_type": "code",
   "execution_count": 47,
   "metadata": {},
   "outputs": [],
   "source": [
    "# Apply this function to each row in the 'linkedEvents' column (you can use apply() and a lambda function)\n",
    "# and create a new column called 'GST_ActivityID' using loc indexer:\n",
    "cme.loc[:, 'GST_ActivityID'] = cme['linkedEvents'].apply(lambda x: extract_activityID_from_dict(x))\n"
   ]
  },
  {
   "cell_type": "code",
   "execution_count": 48,
   "metadata": {},
   "outputs": [],
   "source": [
    "# Remove rows with missing GST_ActivityID, since we can't assign them to GSTs:\n",
    "cme = cme.dropna(subset=['GST_ActivityID'])"
   ]
  },
  {
   "cell_type": "code",
   "execution_count": 49,
   "metadata": {},
   "outputs": [
    {
     "name": "stdout",
     "output_type": "stream",
     "text": [
      "<class 'pandas.core.frame.DataFrame'>\n",
      "RangeIndex: 1722 entries, 0 to 1721\n",
      "Data columns (total 4 columns):\n",
      " #   Column          Non-Null Count  Dtype \n",
      "---  ------          --------------  ----- \n",
      " 0   activityID      1722 non-null   object\n",
      " 1   startTime       1722 non-null   object\n",
      " 2   linkedEvents    1722 non-null   object\n",
      " 3   GST_ActivityID  1722 non-null   object\n",
      "dtypes: object(4)\n",
      "memory usage: 53.9+ KB\n"
     ]
    }
   ],
   "source": [
    "# print out the datatype of each column in this DataFrame:\n",
    "cme.info()"
   ]
  },
  {
   "cell_type": "code",
   "execution_count": 50,
   "metadata": {},
   "outputs": [
    {
     "name": "stdout",
     "output_type": "stream",
     "text": [
      "<class 'pandas.core.frame.DataFrame'>\n",
      "RangeIndex: 1722 entries, 0 to 1721\n",
      "Data columns (total 3 columns):\n",
      " #   Column          Non-Null Count  Dtype              \n",
      "---  ------          --------------  -----              \n",
      " 0   cmeID           1722 non-null   object             \n",
      " 1   startTime_CME   1722 non-null   datetime64[ns, UTC]\n",
      " 2   GST_ActivityID  1722 non-null   string             \n",
      "dtypes: datetime64[ns, UTC](1), object(1), string(1)\n",
      "memory usage: 40.5+ KB\n"
     ]
    }
   ],
   "source": [
    "# Convert the 'GST_ActivityID' column to string format \n",
    "cme['GST_ActivityID'] = cme['GST_ActivityID'].astype('string')\n",
    "\n",
    "# Convert startTime to datetime format  \n",
    "cme['startTime'] = pd.to_datetime(cme['startTime'], utc=True)\n",
    "\n",
    "# Rename startTime to startTime_CME and activityID to cmeID\n",
    "cme = cme.rename(columns={'startTime': 'startTime_CME', 'activityID': 'cmeID'})\n",
    "\n",
    "# Drop linkedEvents\n",
    "cme = cme.drop('linkedEvents', axis=1)\n",
    "\n",
    "# Verify that all steps were executed correctly\n",
    "cme.info()\n"
   ]
  },
  {
   "cell_type": "code",
   "execution_count": 51,
   "metadata": {},
   "outputs": [
    {
     "data": {
      "text/html": [
       "<div>\n",
       "<style scoped>\n",
       "    .dataframe tbody tr th:only-of-type {\n",
       "        vertical-align: middle;\n",
       "    }\n",
       "\n",
       "    .dataframe tbody tr th {\n",
       "        vertical-align: top;\n",
       "    }\n",
       "\n",
       "    .dataframe thead th {\n",
       "        text-align: right;\n",
       "    }\n",
       "</style>\n",
       "<table border=\"1\" class=\"dataframe\">\n",
       "  <thead>\n",
       "    <tr style=\"text-align: right;\">\n",
       "      <th></th>\n",
       "      <th>cmeID</th>\n",
       "      <th>startTime_CME</th>\n",
       "      <th>GST_ActivityID</th>\n",
       "    </tr>\n",
       "  </thead>\n",
       "  <tbody>\n",
       "    <tr>\n",
       "      <th>21</th>\n",
       "      <td>2013-06-02T20:24:00-CME-001</td>\n",
       "      <td>2013-06-02 20:24:00+00:00</td>\n",
       "      <td>2013-06-07T03:00:00-GST-001</td>\n",
       "    </tr>\n",
       "    <tr>\n",
       "      <th>48</th>\n",
       "      <td>2013-09-29T22:40:00-CME-001</td>\n",
       "      <td>2013-09-29 22:40:00+00:00</td>\n",
       "      <td>2013-10-02T03:00:00-GST-001</td>\n",
       "    </tr>\n",
       "    <tr>\n",
       "      <th>90</th>\n",
       "      <td>2013-12-04T23:12:00-CME-001</td>\n",
       "      <td>2013-12-04 23:12:00+00:00</td>\n",
       "      <td>2013-12-08T00:00:00-GST-001</td>\n",
       "    </tr>\n",
       "    <tr>\n",
       "      <th>148</th>\n",
       "      <td>2014-02-16T14:15:00-CME-001</td>\n",
       "      <td>2014-02-16 14:15:00+00:00</td>\n",
       "      <td>2014-02-19T03:00:00-GST-001</td>\n",
       "    </tr>\n",
       "    <tr>\n",
       "      <th>151</th>\n",
       "      <td>2014-02-18T01:25:00-CME-001</td>\n",
       "      <td>2014-02-18 01:25:00+00:00</td>\n",
       "      <td>2014-02-20T03:00:00-GST-001</td>\n",
       "    </tr>\n",
       "  </tbody>\n",
       "</table>\n",
       "</div>"
      ],
      "text/plain": [
       "                           cmeID             startTime_CME  \\\n",
       "21   2013-06-02T20:24:00-CME-001 2013-06-02 20:24:00+00:00   \n",
       "48   2013-09-29T22:40:00-CME-001 2013-09-29 22:40:00+00:00   \n",
       "90   2013-12-04T23:12:00-CME-001 2013-12-04 23:12:00+00:00   \n",
       "148  2014-02-16T14:15:00-CME-001 2014-02-16 14:15:00+00:00   \n",
       "151  2014-02-18T01:25:00-CME-001 2014-02-18 01:25:00+00:00   \n",
       "\n",
       "                  GST_ActivityID  \n",
       "21   2013-06-07T03:00:00-GST-001  \n",
       "48   2013-10-02T03:00:00-GST-001  \n",
       "90   2013-12-08T00:00:00-GST-001  \n",
       "148  2014-02-19T03:00:00-GST-001  \n",
       "151  2014-02-20T03:00:00-GST-001  "
      ]
     },
     "execution_count": 51,
     "metadata": {},
     "output_type": "execute_result"
    }
   ],
   "source": [
    "# We are only interested in CMEs related to GSTs so keep only rows where the GST_ActivityID column contains 'GST'\n",
    "cme = cme[cme['GST_ActivityID'].str.contains('GST')]\n",
    "cme.head()"
   ]
  },
  {
   "cell_type": "markdown",
   "metadata": {},
   "source": [
    "### GST Data"
   ]
  },
  {
   "cell_type": "code",
   "execution_count": 52,
   "metadata": {},
   "outputs": [],
   "source": [
    "# Set the base URL to NASA's DONKI API:\n",
    "base_url = \"https://api.nasa.gov/DONKI/\"\n",
    "\n",
    "# Set the specifier for Geomagnetic Storms (GST):\n",
    "GST = \"GST\"\n",
    "\n",
    "# Search for GSTs between a begin and end date\n",
    "startDate = \"2013-05-01\"\n",
    "endDate   = \"2024-05-01\"\n",
    "\n",
    "# Build URL for GST\n",
    "query_url_GST = f\"{base_url}{GST}?startDate={startDate}&endDate={endDate}&api_key={NASA_API_KEY}\"\n"
   ]
  },
  {
   "cell_type": "code",
   "execution_count": 53,
   "metadata": {},
   "outputs": [],
   "source": [
    "# Make a \"GET\" request for the GST URL and store it in a variable named gst_response\n",
    "gst_response = requests.get(query_url_GST)"
   ]
  },
  {
   "cell_type": "code",
   "execution_count": 54,
   "metadata": {},
   "outputs": [
    {
     "name": "stdout",
     "output_type": "stream",
     "text": [
      "{\n",
      "    \"gstID\": \"2013-06-01T01:00:00-GST-001\",\n",
      "    \"startTime\": \"2013-06-01T01:00Z\",\n",
      "    \"allKpIndex\": [\n",
      "        {\n",
      "            \"observedTime\": \"2013-06-01T01:00Z\",\n",
      "            \"kpIndex\": 6.0,\n",
      "            \"source\": \"NOAA\"\n",
      "        }\n",
      "    ],\n",
      "    \"link\": \"https://webtools.ccmc.gsfc.nasa.gov/DONKI/view/GST/326/-1\",\n",
      "    \"linkedEvents\": [\n",
      "        {\n",
      "            \"activityID\": \"2013-05-31T15:45:00-HSS-001\"\n",
      "        }\n",
      "    ],\n",
      "    \"submissionTime\": \"2013-07-15T19:26Z\",\n",
      "    \"versionId\": 1\n",
      "}\n"
     ]
    }
   ],
   "source": [
    "# Convert the response variable to json and store it as a variable named gst_json\n",
    "gst_json = gst_response.json()\n",
    "\n",
    "# Preview the first result in JSON format\n",
    "# Use json.dumps with argument indent=4 to format data\n",
    "print(json.dumps(gst_json[0], indent=4))"
   ]
  },
  {
   "cell_type": "code",
   "execution_count": 55,
   "metadata": {},
   "outputs": [
    {
     "name": "stdout",
     "output_type": "stream",
     "text": [
      "{\n",
      "    \"gstID\": \"2013-06-01T01:00:00-GST-001\",\n",
      "    \"startTime\": \"2013-06-01T01:00Z\",\n",
      "    \"allKpIndex\": [\n",
      "        {\n",
      "            \"observedTime\": \"2013-06-01T01:00Z\",\n",
      "            \"kpIndex\": 6.0,\n",
      "            \"source\": \"NOAA\"\n",
      "        }\n",
      "    ],\n",
      "    \"link\": \"https://webtools.ccmc.gsfc.nasa.gov/DONKI/view/GST/326/-1\",\n",
      "    \"linkedEvents\": [\n",
      "        {\n",
      "            \"activityID\": \"2013-05-31T15:45:00-HSS-001\"\n",
      "        }\n",
      "    ],\n",
      "    \"submissionTime\": \"2013-07-15T19:26Z\",\n",
      "    \"versionId\": 1\n",
      "}\n"
     ]
    }
   ],
   "source": [
    "# Preview ONLY the first element from the gst_json list you created in JSON format\n",
    "# Do NOT print out the entire list\n",
    "# Use json.dumps with argument indent=4 to format data\n",
    "print(json.dumps(gst_json[0], indent=4))"
   ]
  },
  {
   "cell_type": "code",
   "execution_count": 56,
   "metadata": {},
   "outputs": [],
   "source": [
    "# Convert gst_json to a Pandas DataFrame  \n",
    "gst = pd.DataFrame(gst_json)\n",
    "\n",
    "# Keep only the columns: activityID, startTime, linkedEvents\n",
    "gst = gst[['gstID', 'startTime', 'linkedEvents']]"
   ]
  },
  {
   "cell_type": "code",
   "execution_count": 57,
   "metadata": {},
   "outputs": [],
   "source": [
    "# Notice that the linkedEvents column allows us to identify the corresponding CME\n",
    "# Remove rows with missing 'linkedEvents' since we won't be able to assign these to CME\n",
    "gst = gst.dropna(subset=['linkedEvents'])\n"
   ]
  },
  {
   "cell_type": "code",
   "execution_count": 58,
   "metadata": {},
   "outputs": [],
   "source": [
    "# Notice that the linkedEvents sometimes contains multiple events per row\n",
    "# Use the explode method to ensure that each row is one element. Ensure to reset the index and drop missing values.\n",
    "\n",
    "gst = gst.explode('linkedEvents')\n",
    "gst = gst.reset_index(drop=True).dropna(subset=['linkedEvents'])"
   ]
  },
  {
   "cell_type": "code",
   "execution_count": 59,
   "metadata": {},
   "outputs": [],
   "source": [
    "# Apply the extract_activityID_from_dict function to each row in the 'linkedEvents' column (you can use apply() and a lambda function)\n",
    "# and create a new column called 'CME_ActivityID' using loc indexer:\n",
    "\n",
    "gst.loc[:, 'CME_ActivityID'] = gst['linkedEvents'].apply(lambda x: extract_activityID_from_dict(x))\n",
    "\n",
    "# Remove rows with missing CME_ActivityID, since we can't assign them to CMEs:\n",
    "gst = gst.dropna(subset=['CME_ActivityID'])\n"
   ]
  },
  {
   "cell_type": "code",
   "execution_count": 60,
   "metadata": {},
   "outputs": [
    {
     "name": "stdout",
     "output_type": "stream",
     "text": [
      "<class 'pandas.core.frame.DataFrame'>\n",
      "RangeIndex: 205 entries, 0 to 204\n",
      "Data columns (total 3 columns):\n",
      " #   Column          Non-Null Count  Dtype              \n",
      "---  ------          --------------  -----              \n",
      " 0   gstID           205 non-null    string             \n",
      " 1   startTime_GST   205 non-null    datetime64[ns, UTC]\n",
      " 2   CME_ActivityID  205 non-null    string             \n",
      "dtypes: datetime64[ns, UTC](1), string(2)\n",
      "memory usage: 4.9 KB\n"
     ]
    }
   ],
   "source": [
    "# Convert the 'CME_ActivityID' column to string format \n",
    "gst['CME_ActivityID'] = gst['CME_ActivityID'].astype('string')\n",
    "\n",
    "# Convert the 'gstID' column to string format \n",
    "gst['gstID'] = gst['gstID'].astype('string')\n",
    "\n",
    "# Convert startTime to datetime format  \n",
    "gst['startTime'] = pd.to_datetime(gst['startTime'], utc=True)\n",
    "\n",
    "# Rename startTime to startTime_GST \n",
    "gst = gst.rename(columns={'startTime': 'startTime_GST'})\n",
    "\n",
    "# Drop linkedEvents\n",
    "gst = gst.drop('linkedEvents', axis=1)\n",
    "\n",
    "# Verify that all steps were executed correctly\n",
    "gst.info()\n"
   ]
  },
  {
   "cell_type": "code",
   "execution_count": 61,
   "metadata": {},
   "outputs": [
    {
     "data": {
      "text/html": [
       "<div>\n",
       "<style scoped>\n",
       "    .dataframe tbody tr th:only-of-type {\n",
       "        vertical-align: middle;\n",
       "    }\n",
       "\n",
       "    .dataframe tbody tr th {\n",
       "        vertical-align: top;\n",
       "    }\n",
       "\n",
       "    .dataframe thead th {\n",
       "        text-align: right;\n",
       "    }\n",
       "</style>\n",
       "<table border=\"1\" class=\"dataframe\">\n",
       "  <thead>\n",
       "    <tr style=\"text-align: right;\">\n",
       "      <th></th>\n",
       "      <th>gstID</th>\n",
       "      <th>startTime_GST</th>\n",
       "      <th>CME_ActivityID</th>\n",
       "    </tr>\n",
       "  </thead>\n",
       "  <tbody>\n",
       "    <tr>\n",
       "      <th>1</th>\n",
       "      <td>2013-06-07T03:00:00-GST-001</td>\n",
       "      <td>2013-06-07 03:00:00+00:00</td>\n",
       "      <td>2013-06-02T20:24:00-CME-001</td>\n",
       "    </tr>\n",
       "    <tr>\n",
       "      <th>2</th>\n",
       "      <td>2013-10-02T03:00:00-GST-001</td>\n",
       "      <td>2013-10-02 03:00:00+00:00</td>\n",
       "      <td>2013-09-29T22:40:00-CME-001</td>\n",
       "    </tr>\n",
       "    <tr>\n",
       "      <th>5</th>\n",
       "      <td>2013-12-08T00:00:00-GST-001</td>\n",
       "      <td>2013-12-08 00:00:00+00:00</td>\n",
       "      <td>2013-12-04T23:12:00-CME-001</td>\n",
       "    </tr>\n",
       "    <tr>\n",
       "      <th>7</th>\n",
       "      <td>2014-02-19T03:00:00-GST-001</td>\n",
       "      <td>2014-02-19 03:00:00+00:00</td>\n",
       "      <td>2014-02-16T14:15:00-CME-001</td>\n",
       "    </tr>\n",
       "    <tr>\n",
       "      <th>9</th>\n",
       "      <td>2014-02-20T03:00:00-GST-001</td>\n",
       "      <td>2014-02-20 03:00:00+00:00</td>\n",
       "      <td>2014-02-18T01:25:00-CME-001</td>\n",
       "    </tr>\n",
       "  </tbody>\n",
       "</table>\n",
       "</div>"
      ],
      "text/plain": [
       "                         gstID             startTime_GST  \\\n",
       "1  2013-06-07T03:00:00-GST-001 2013-06-07 03:00:00+00:00   \n",
       "2  2013-10-02T03:00:00-GST-001 2013-10-02 03:00:00+00:00   \n",
       "5  2013-12-08T00:00:00-GST-001 2013-12-08 00:00:00+00:00   \n",
       "7  2014-02-19T03:00:00-GST-001 2014-02-19 03:00:00+00:00   \n",
       "9  2014-02-20T03:00:00-GST-001 2014-02-20 03:00:00+00:00   \n",
       "\n",
       "                CME_ActivityID  \n",
       "1  2013-06-02T20:24:00-CME-001  \n",
       "2  2013-09-29T22:40:00-CME-001  \n",
       "5  2013-12-04T23:12:00-CME-001  \n",
       "7  2014-02-16T14:15:00-CME-001  \n",
       "9  2014-02-18T01:25:00-CME-001  "
      ]
     },
     "execution_count": 61,
     "metadata": {},
     "output_type": "execute_result"
    }
   ],
   "source": [
    "# We are only interested in GSTs related to CMEs so keep only rows where the CME_ActivityID column contains 'CME'\n",
    "# use the method 'contains()' from the str library.  \n",
    "gst = gst[gst['CME_ActivityID'].str.contains('CME')]\n",
    "gst.head()\n"
   ]
  },
  {
   "cell_type": "markdown",
   "metadata": {},
   "source": [
    "### Merge both datatsets"
   ]
  },
  {
   "cell_type": "code",
   "execution_count": 62,
   "metadata": {},
   "outputs": [
    {
     "data": {
      "text/html": [
       "<div>\n",
       "<style scoped>\n",
       "    .dataframe tbody tr th:only-of-type {\n",
       "        vertical-align: middle;\n",
       "    }\n",
       "\n",
       "    .dataframe tbody tr th {\n",
       "        vertical-align: top;\n",
       "    }\n",
       "\n",
       "    .dataframe thead th {\n",
       "        text-align: right;\n",
       "    }\n",
       "</style>\n",
       "<table border=\"1\" class=\"dataframe\">\n",
       "  <thead>\n",
       "    <tr style=\"text-align: right;\">\n",
       "      <th></th>\n",
       "      <th>gstID</th>\n",
       "      <th>startTime_GST</th>\n",
       "      <th>CME_ActivityID</th>\n",
       "      <th>cmeID</th>\n",
       "      <th>startTime_CME</th>\n",
       "      <th>GST_ActivityID</th>\n",
       "    </tr>\n",
       "  </thead>\n",
       "  <tbody>\n",
       "    <tr>\n",
       "      <th>0</th>\n",
       "      <td>2013-06-07T03:00:00-GST-001</td>\n",
       "      <td>2013-06-07 03:00:00+00:00</td>\n",
       "      <td>2013-06-02T20:24:00-CME-001</td>\n",
       "      <td>2013-06-02T20:24:00-CME-001</td>\n",
       "      <td>2013-06-02 20:24:00+00:00</td>\n",
       "      <td>2013-06-07T03:00:00-GST-001</td>\n",
       "    </tr>\n",
       "    <tr>\n",
       "      <th>1</th>\n",
       "      <td>2013-10-02T03:00:00-GST-001</td>\n",
       "      <td>2013-10-02 03:00:00+00:00</td>\n",
       "      <td>2013-09-29T22:40:00-CME-001</td>\n",
       "      <td>2013-09-29T22:40:00-CME-001</td>\n",
       "      <td>2013-09-29 22:40:00+00:00</td>\n",
       "      <td>2013-10-02T03:00:00-GST-001</td>\n",
       "    </tr>\n",
       "    <tr>\n",
       "      <th>2</th>\n",
       "      <td>2013-12-08T00:00:00-GST-001</td>\n",
       "      <td>2013-12-08 00:00:00+00:00</td>\n",
       "      <td>2013-12-04T23:12:00-CME-001</td>\n",
       "      <td>2013-12-04T23:12:00-CME-001</td>\n",
       "      <td>2013-12-04 23:12:00+00:00</td>\n",
       "      <td>2013-12-08T00:00:00-GST-001</td>\n",
       "    </tr>\n",
       "    <tr>\n",
       "      <th>3</th>\n",
       "      <td>2014-02-19T03:00:00-GST-001</td>\n",
       "      <td>2014-02-19 03:00:00+00:00</td>\n",
       "      <td>2014-02-16T14:15:00-CME-001</td>\n",
       "      <td>2014-02-16T14:15:00-CME-001</td>\n",
       "      <td>2014-02-16 14:15:00+00:00</td>\n",
       "      <td>2014-02-19T03:00:00-GST-001</td>\n",
       "    </tr>\n",
       "    <tr>\n",
       "      <th>4</th>\n",
       "      <td>2014-02-20T03:00:00-GST-001</td>\n",
       "      <td>2014-02-20 03:00:00+00:00</td>\n",
       "      <td>2014-02-18T01:25:00-CME-001</td>\n",
       "      <td>2014-02-18T01:25:00-CME-001</td>\n",
       "      <td>2014-02-18 01:25:00+00:00</td>\n",
       "      <td>2014-02-20T03:00:00-GST-001</td>\n",
       "    </tr>\n",
       "  </tbody>\n",
       "</table>\n",
       "</div>"
      ],
      "text/plain": [
       "                         gstID             startTime_GST  \\\n",
       "0  2013-06-07T03:00:00-GST-001 2013-06-07 03:00:00+00:00   \n",
       "1  2013-10-02T03:00:00-GST-001 2013-10-02 03:00:00+00:00   \n",
       "2  2013-12-08T00:00:00-GST-001 2013-12-08 00:00:00+00:00   \n",
       "3  2014-02-19T03:00:00-GST-001 2014-02-19 03:00:00+00:00   \n",
       "4  2014-02-20T03:00:00-GST-001 2014-02-20 03:00:00+00:00   \n",
       "\n",
       "                CME_ActivityID                        cmeID  \\\n",
       "0  2013-06-02T20:24:00-CME-001  2013-06-02T20:24:00-CME-001   \n",
       "1  2013-09-29T22:40:00-CME-001  2013-09-29T22:40:00-CME-001   \n",
       "2  2013-12-04T23:12:00-CME-001  2013-12-04T23:12:00-CME-001   \n",
       "3  2014-02-16T14:15:00-CME-001  2014-02-16T14:15:00-CME-001   \n",
       "4  2014-02-18T01:25:00-CME-001  2014-02-18T01:25:00-CME-001   \n",
       "\n",
       "              startTime_CME               GST_ActivityID  \n",
       "0 2013-06-02 20:24:00+00:00  2013-06-07T03:00:00-GST-001  \n",
       "1 2013-09-29 22:40:00+00:00  2013-10-02T03:00:00-GST-001  \n",
       "2 2013-12-04 23:12:00+00:00  2013-12-08T00:00:00-GST-001  \n",
       "3 2014-02-16 14:15:00+00:00  2014-02-19T03:00:00-GST-001  \n",
       "4 2014-02-18 01:25:00+00:00  2014-02-20T03:00:00-GST-001  "
      ]
     },
     "execution_count": 62,
     "metadata": {},
     "output_type": "execute_result"
    }
   ],
   "source": [
    "# Now merge both datasets using 'gstID' and 'CME_ActivityID' for gst and 'GST_ActivityID' and 'cmeID' for cme. Use the 'left_on' and 'right_on' specifiers.\n",
    "\n",
    "merged_df = pd.merge(gst, cme, left_on=['gstID', 'CME_ActivityID'], right_on=['GST_ActivityID', 'cmeID'])\n",
    "merged_df.head()"
   ]
  },
  {
   "cell_type": "code",
   "execution_count": 63,
   "metadata": {},
   "outputs": [
    {
     "name": "stdout",
     "output_type": "stream",
     "text": [
      "<class 'pandas.core.frame.DataFrame'>\n",
      "RangeIndex: 61 entries, 0 to 60\n",
      "Data columns (total 6 columns):\n",
      " #   Column          Non-Null Count  Dtype              \n",
      "---  ------          --------------  -----              \n",
      " 0   gstID           61 non-null     string             \n",
      " 1   startTime_GST   61 non-null     datetime64[ns, UTC]\n",
      " 2   CME_ActivityID  61 non-null     object             \n",
      " 3   cmeID           61 non-null     object             \n",
      " 4   startTime_CME   61 non-null     datetime64[ns, UTC]\n",
      " 5   GST_ActivityID  61 non-null     string             \n",
      "dtypes: datetime64[ns, UTC](2), object(2), string(2)\n",
      "memory usage: 3.0+ KB\n"
     ]
    }
   ],
   "source": [
    "# Verify that the new DataFrame has the same number of rows as cme and gst\n",
    "\n",
    "merged_df.info()"
   ]
  },
  {
   "cell_type": "markdown",
   "metadata": {},
   "source": [
    "### Computing the time it takes for a CME to cause a GST"
   ]
  },
  {
   "cell_type": "code",
   "execution_count": 64,
   "metadata": {},
   "outputs": [
    {
     "data": {
      "text/html": [
       "<div>\n",
       "<style scoped>\n",
       "    .dataframe tbody tr th:only-of-type {\n",
       "        vertical-align: middle;\n",
       "    }\n",
       "\n",
       "    .dataframe tbody tr th {\n",
       "        vertical-align: top;\n",
       "    }\n",
       "\n",
       "    .dataframe thead th {\n",
       "        text-align: right;\n",
       "    }\n",
       "</style>\n",
       "<table border=\"1\" class=\"dataframe\">\n",
       "  <thead>\n",
       "    <tr style=\"text-align: right;\">\n",
       "      <th></th>\n",
       "      <th>gstID</th>\n",
       "      <th>startTime_GST</th>\n",
       "      <th>CME_ActivityID</th>\n",
       "      <th>cmeID</th>\n",
       "      <th>startTime_CME</th>\n",
       "      <th>GST_ActivityID</th>\n",
       "      <th>timeDiff</th>\n",
       "    </tr>\n",
       "  </thead>\n",
       "  <tbody>\n",
       "    <tr>\n",
       "      <th>0</th>\n",
       "      <td>2013-06-07T03:00:00-GST-001</td>\n",
       "      <td>2013-06-07 03:00:00+00:00</td>\n",
       "      <td>2013-06-02T20:24:00-CME-001</td>\n",
       "      <td>2013-06-02T20:24:00-CME-001</td>\n",
       "      <td>2013-06-02 20:24:00+00:00</td>\n",
       "      <td>2013-06-07T03:00:00-GST-001</td>\n",
       "      <td>4 days 06:36:00</td>\n",
       "    </tr>\n",
       "    <tr>\n",
       "      <th>1</th>\n",
       "      <td>2013-10-02T03:00:00-GST-001</td>\n",
       "      <td>2013-10-02 03:00:00+00:00</td>\n",
       "      <td>2013-09-29T22:40:00-CME-001</td>\n",
       "      <td>2013-09-29T22:40:00-CME-001</td>\n",
       "      <td>2013-09-29 22:40:00+00:00</td>\n",
       "      <td>2013-10-02T03:00:00-GST-001</td>\n",
       "      <td>2 days 04:20:00</td>\n",
       "    </tr>\n",
       "    <tr>\n",
       "      <th>2</th>\n",
       "      <td>2013-12-08T00:00:00-GST-001</td>\n",
       "      <td>2013-12-08 00:00:00+00:00</td>\n",
       "      <td>2013-12-04T23:12:00-CME-001</td>\n",
       "      <td>2013-12-04T23:12:00-CME-001</td>\n",
       "      <td>2013-12-04 23:12:00+00:00</td>\n",
       "      <td>2013-12-08T00:00:00-GST-001</td>\n",
       "      <td>3 days 00:48:00</td>\n",
       "    </tr>\n",
       "    <tr>\n",
       "      <th>3</th>\n",
       "      <td>2014-02-19T03:00:00-GST-001</td>\n",
       "      <td>2014-02-19 03:00:00+00:00</td>\n",
       "      <td>2014-02-16T14:15:00-CME-001</td>\n",
       "      <td>2014-02-16T14:15:00-CME-001</td>\n",
       "      <td>2014-02-16 14:15:00+00:00</td>\n",
       "      <td>2014-02-19T03:00:00-GST-001</td>\n",
       "      <td>2 days 12:45:00</td>\n",
       "    </tr>\n",
       "    <tr>\n",
       "      <th>4</th>\n",
       "      <td>2014-02-20T03:00:00-GST-001</td>\n",
       "      <td>2014-02-20 03:00:00+00:00</td>\n",
       "      <td>2014-02-18T01:25:00-CME-001</td>\n",
       "      <td>2014-02-18T01:25:00-CME-001</td>\n",
       "      <td>2014-02-18 01:25:00+00:00</td>\n",
       "      <td>2014-02-20T03:00:00-GST-001</td>\n",
       "      <td>2 days 01:35:00</td>\n",
       "    </tr>\n",
       "  </tbody>\n",
       "</table>\n",
       "</div>"
      ],
      "text/plain": [
       "                         gstID             startTime_GST  \\\n",
       "0  2013-06-07T03:00:00-GST-001 2013-06-07 03:00:00+00:00   \n",
       "1  2013-10-02T03:00:00-GST-001 2013-10-02 03:00:00+00:00   \n",
       "2  2013-12-08T00:00:00-GST-001 2013-12-08 00:00:00+00:00   \n",
       "3  2014-02-19T03:00:00-GST-001 2014-02-19 03:00:00+00:00   \n",
       "4  2014-02-20T03:00:00-GST-001 2014-02-20 03:00:00+00:00   \n",
       "\n",
       "                CME_ActivityID                        cmeID  \\\n",
       "0  2013-06-02T20:24:00-CME-001  2013-06-02T20:24:00-CME-001   \n",
       "1  2013-09-29T22:40:00-CME-001  2013-09-29T22:40:00-CME-001   \n",
       "2  2013-12-04T23:12:00-CME-001  2013-12-04T23:12:00-CME-001   \n",
       "3  2014-02-16T14:15:00-CME-001  2014-02-16T14:15:00-CME-001   \n",
       "4  2014-02-18T01:25:00-CME-001  2014-02-18T01:25:00-CME-001   \n",
       "\n",
       "              startTime_CME               GST_ActivityID        timeDiff  \n",
       "0 2013-06-02 20:24:00+00:00  2013-06-07T03:00:00-GST-001 4 days 06:36:00  \n",
       "1 2013-09-29 22:40:00+00:00  2013-10-02T03:00:00-GST-001 2 days 04:20:00  \n",
       "2 2013-12-04 23:12:00+00:00  2013-12-08T00:00:00-GST-001 3 days 00:48:00  \n",
       "3 2014-02-16 14:15:00+00:00  2014-02-19T03:00:00-GST-001 2 days 12:45:00  \n",
       "4 2014-02-18 01:25:00+00:00  2014-02-20T03:00:00-GST-001 2 days 01:35:00  "
      ]
     },
     "execution_count": 64,
     "metadata": {},
     "output_type": "execute_result"
    }
   ],
   "source": [
    "# Compute the time diff between startTime_GST and startTime_CME by creating a new column called `timeDiff`.\n",
    "merged_df['timeDiff'] = merged_df['startTime_GST'] - merged_df['startTime_CME']\n",
    "merged_df.head()"
   ]
  },
  {
   "cell_type": "code",
   "execution_count": 65,
   "metadata": {},
   "outputs": [
    {
     "data": {
      "text/html": [
       "<div>\n",
       "<style scoped>\n",
       "    .dataframe tbody tr th:only-of-type {\n",
       "        vertical-align: middle;\n",
       "    }\n",
       "\n",
       "    .dataframe tbody tr th {\n",
       "        vertical-align: top;\n",
       "    }\n",
       "\n",
       "    .dataframe thead th {\n",
       "        text-align: right;\n",
       "    }\n",
       "</style>\n",
       "<table border=\"1\" class=\"dataframe\">\n",
       "  <thead>\n",
       "    <tr style=\"text-align: right;\">\n",
       "      <th></th>\n",
       "      <th>timeDiff</th>\n",
       "    </tr>\n",
       "  </thead>\n",
       "  <tbody>\n",
       "    <tr>\n",
       "      <th>count</th>\n",
       "      <td>61</td>\n",
       "    </tr>\n",
       "    <tr>\n",
       "      <th>mean</th>\n",
       "      <td>2 days 23:29:26.557377049</td>\n",
       "    </tr>\n",
       "    <tr>\n",
       "      <th>std</th>\n",
       "      <td>0 days 23:53:09.336914240</td>\n",
       "    </tr>\n",
       "    <tr>\n",
       "      <th>min</th>\n",
       "      <td>1 days 08:36:00</td>\n",
       "    </tr>\n",
       "    <tr>\n",
       "      <th>25%</th>\n",
       "      <td>2 days 04:00:00</td>\n",
       "    </tr>\n",
       "    <tr>\n",
       "      <th>50%</th>\n",
       "      <td>2 days 19:51:00</td>\n",
       "    </tr>\n",
       "    <tr>\n",
       "      <th>75%</th>\n",
       "      <td>3 days 13:35:00</td>\n",
       "    </tr>\n",
       "    <tr>\n",
       "      <th>max</th>\n",
       "      <td>6 days 03:00:00</td>\n",
       "    </tr>\n",
       "  </tbody>\n",
       "</table>\n",
       "</div>"
      ],
      "text/plain": [
       "                        timeDiff\n",
       "count                         61\n",
       "mean   2 days 23:29:26.557377049\n",
       "std    0 days 23:53:09.336914240\n",
       "min              1 days 08:36:00\n",
       "25%              2 days 04:00:00\n",
       "50%              2 days 19:51:00\n",
       "75%              3 days 13:35:00\n",
       "max              6 days 03:00:00"
      ]
     },
     "execution_count": 65,
     "metadata": {},
     "output_type": "execute_result"
    }
   ],
   "source": [
    "# Use describe() to compute the mean and median time \n",
    "# that it takes for a CME to cause a GST. \n",
    "\n",
    "merged_df[['timeDiff']].describe()\n"
   ]
  },
  {
   "cell_type": "markdown",
   "metadata": {},
   "source": [
    "### Exporting data in csv format"
   ]
  },
  {
   "cell_type": "code",
   "execution_count": 66,
   "metadata": {},
   "outputs": [],
   "source": [
    "# Export data to CSV without the index\n",
    "merged_df.to_csv('cme_gst_data.csv', index=False)"
   ]
  }
 ],
 "metadata": {
  "kernelspec": {
   "display_name": "base",
   "language": "python",
   "name": "python3"
  },
  "language_info": {
   "codemirror_mode": {
    "name": "ipython",
    "version": 3
   },
   "file_extension": ".py",
   "mimetype": "text/x-python",
   "name": "python",
   "nbconvert_exporter": "python",
   "pygments_lexer": "ipython3",
   "version": "3.12.4"
  },
  "varInspector": {
   "cols": {
    "lenName": 16,
    "lenType": 16,
    "lenVar": 40
   },
   "kernels_config": {
    "python": {
     "delete_cmd_postfix": "",
     "delete_cmd_prefix": "del ",
     "library": "var_list.py",
     "varRefreshCmd": "print(var_dic_list())"
    },
    "r": {
     "delete_cmd_postfix": ") ",
     "delete_cmd_prefix": "rm(",
     "library": "var_list.r",
     "varRefreshCmd": "cat(var_dic_list()) "
    }
   },
   "types_to_exclude": [
    "module",
    "function",
    "builtin_function_or_method",
    "instance",
    "_Feature"
   ],
   "window_display": false
  }
 },
 "nbformat": 4,
 "nbformat_minor": 4
}
